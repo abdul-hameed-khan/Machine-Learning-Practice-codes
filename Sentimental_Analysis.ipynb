{
 "cells": [
  {
   "cell_type": "code",
   "execution_count": null,
   "id": "matched-nebraska",
   "metadata": {},
   "outputs": [],
   "source": [
    "import tensorflow as tf\n",
    "print(tf.__version__)\n",
    "from tensorflow.python.client import device_lib\n",
    "print(device_lib.list_local_devices())\n",
    "import pandas as pd\n",
    "import numpy as np\n",
    "import ktrain\n",
    "from ktrain import text"
   ]
  },
  {
   "cell_type": "code",
   "execution_count": null,
   "id": "numerous-occasions",
   "metadata": {},
   "outputs": [],
   "source": [
    "data_train= pd.read_excel('Training_Data.xlsx',dtype=str)\n",
    "data_test= pd.read_excel('Testing_Data.xlsx',dtype=str)\n",
    "data_train.head()\n",
    "data_test\n",
    "\n",
    "data_test.shape,data_train.shape"
   ]
  },
  {
   "cell_type": "code",
   "execution_count": null,
   "id": "multiple-homework",
   "metadata": {},
   "outputs": [],
   "source": [
    "(X_train, y_train),(X_test, y_test),preproc=text.texts_from_df(train_df=data_train.astype(str),\n",
    "                                                               text_column = 'Review',\n",
    "                                                               label_columns='Sentiment',\n",
    "                                                               val_df=data_test.astype(str),\n",
    "                                                               maxlen = 500,\n",
    "                                                               preprocess_mode = 'bert')"
   ]
  },
  {
   "cell_type": "code",
   "execution_count": null,
   "id": "virgin-parade",
   "metadata": {},
   "outputs": [],
   "source": [
    "# print(X_train)\n",
    "# print(y_train)\n",
    "# print(X_test)\n",
    "# print(y_test)"
   ]
  },
  {
   "cell_type": "code",
   "execution_count": null,
   "id": "communist-simple",
   "metadata": {},
   "outputs": [],
   "source": [
    "model = text.text_classifier(name = 'bert',\n",
    "                             train_data = (X_train,y_train),\n",
    "                             preproc = preproc)"
   ]
  },
  {
   "cell_type": "code",
   "execution_count": null,
   "id": "statistical-receipt",
   "metadata": {},
   "outputs": [],
   "source": [
    "learner= ktrain.get_learner(model=model,train_data = (X_train,y_train),\n",
    "                   val_data =(X_test,y_test),\n",
    "                   batch_size = 1)"
   ]
  },
  {
   "cell_type": "code",
   "execution_count": null,
   "id": "undefined-journalist",
   "metadata": {},
   "outputs": [],
   "source": [
    "learner.fit_onecycle(lr = 2e-5, epochs = 5)"
   ]
  },
  {
   "cell_type": "code",
   "execution_count": null,
   "id": "premium-display",
   "metadata": {},
   "outputs": [],
   "source": [
    "learner.save_model('/Saved_Model/Model')"
   ]
  },
  {
   "cell_type": "code",
   "execution_count": null,
   "id": "small-conviction",
   "metadata": {},
   "outputs": [],
   "source": [
    "data = ['Creator, this game is really good, but there are people who speak profanity. Please cover the profanity with *.',\n",
    "        'This game is super awesome, it been a trend on Instagram, i played like a year ago, 2020, and the game lag a little, might be because of my phone, it is a good game afterall, i played with my sister and it is all fine, the game controller was good, sometimes, it didnt work correctly, i donot know why, it glitchy, so i re-enter and its went back normal. Good game, might be the best',\n",
    "        'I adore this game 💞. First I donot like this game but now I enjoy so much by playin this game',\n",
    "        'Bad video calling quality and also photo qualities degrades when downloaded through whatsapp']"
   ]
  },
  {
   "cell_type": "code",
   "execution_count": null,
   "id": "primary-tracy",
   "metadata": {},
   "outputs": [],
   "source": [
    "predictor.pridict(data)\n",
    "predictor.predict(data,return_proba = True)\n",
    "predictor.get_classes()"
   ]
  },
  {
   "cell_type": "code",
   "execution_count": null,
   "id": "assured-harbor",
   "metadata": {},
   "outputs": [],
   "source": [
    "predictor.save('/Saved_Model/ALL_CATEGORIES_MODEL')"
   ]
  },
  {
   "cell_type": "code",
   "execution_count": null,
   "id": "twelve-rachel",
   "metadata": {},
   "outputs": [],
   "source": [
    "predictor_load = ktrain.load_predictor('/Data/ALL_CATEGORIES_MODEL')\n",
    "predictor_load.get_classes()\n",
    "\n",
    "predictor_load.pridict(data)"
   ]
  },
  {
   "cell_type": "code",
   "execution_count": null,
   "id": "dense-headline",
   "metadata": {},
   "outputs": [],
   "source": []
  }
 ],
 "metadata": {
  "kernelspec": {
   "display_name": "Python 3",
   "language": "python",
   "name": "python3"
  },
  "language_info": {
   "codemirror_mode": {
    "name": "ipython",
    "version": 3
   },
   "file_extension": ".py",
   "mimetype": "text/x-python",
   "name": "python",
   "nbconvert_exporter": "python",
   "pygments_lexer": "ipython3",
   "version": "3.7.9"
  }
 },
 "nbformat": 4,
 "nbformat_minor": 5
}
